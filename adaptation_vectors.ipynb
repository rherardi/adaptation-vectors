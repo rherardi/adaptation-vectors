{
 "cells": [
  {
   "cell_type": "code",
   "execution_count": null,
   "id": "import-numpy-and-matplotlib",
   "metadata": {},
   "outputs": [],
   "source": [
    "import numpy as np\n",
    "import matplotlib.pyplot as plt\n",
    "from argparse import Namespace\n",
    "from IPython.display import Image, display, FileLink"
   ]
  },
  {
   "cell_type": "code",
   "execution_count": null,
   "id": "generate-data-function",
   "metadata": {},
   "outputs": [],
   "source": [
    "def generate_data():\n",
    "    # Generate 2500 points in a 3D field conforming to a gaussian distribution\n",
    "    np.random.seed(0)\n",
    "    x = np.random.normal(loc=50, scale=20, size=2500)\n",
    "    y = np.random.normal(loc=50, scale=20, size=2500)\n",
    "    z = np.random.normal(loc=50, scale=20, size=2500)\n",
    "    return x, y, z"
   ]
  },
  {
   "cell_type": "code",
   "execution_count": null,
   "id": "save-csv-function",
   "metadata": {},
   "outputs": [],
   "source": [
    "def save_csv(x, y, z):\n",
    "    # Save points in a local CSV file\n",
    "    data = np.column_stack((x, y, z))\n",
    "    np.savetxt(\"adaptation_vectors.csv\", data, delimiter=\",\", header=\"x,y,z\", comments='', fmt='%0.2f')"
   ]
  },
  {
   "cell_type": "code",
   "execution_count": null,
   "id": "create-chart-function",
   "metadata": {},
   "outputs": [],
   "source": [
    "def create_chart(x, y, z, t1, t2, t3, t4, t5, p1):\n",
    "    # Chart points delineated by y axis value (\"percent of workforce\") color coding each 20% tier\n",
    "    fig = plt.figure(figsize=(7, 7))\n",
    "    ax = fig.add_subplot(111, projection='3d')\n",
    "\n",
    "    # Define colors based on y values\n",
    "    colors = np.where(y > t2, 'green',  # Green\n",
    "                      np.where(y > t3, 'blue',  # Lightblue\n",
    "                               np.where(y > t4, 'violet',  # Orange\n",
    "                                        np.where(y > t5, 'purple',  # Orangered\n",
    "                                                 'red'))))  # Red\n",
    "\n",
    "    ax.scatter(x, y, z, c=colors)\n",
    "\n",
    "    # Set y value demarcation at t2 (between top 20% and bottom 80% of y values) as a whole integer\n",
    "    l4 = int(round(t2))\n",
    "\n",
    "    # Draw demarcation line on chart\n",
    "    ax.plot([100, 0], [l4, l4], [0, 100], color='black')\n",
    "\n",
    "    # Set chart axis increments and labels\n",
    "    ax.set_xticks(np.arange(0, 101, 10))\n",
    "    ax.set_xticklabels([\"{}%\".format(i) for i in range(0, 101, 10)], fontsize=6)\n",
    "    ax.set_xlabel(\"x = Time Available\", fontsize=9)\n",
    "\n",
    "    ax.set_yticks(np.arange(0, 101, 10))\n",
    "    ax.set_yticklabels([\"{}%\".format(i) for i in range(0, 101, 10)], fontsize=6)\n",
    "    ax.set_ylabel(\"y = Percent of Workforce\", fontsize=9)\n",
    "\n",
    "    ax.set_zticks(np.arange(0, 101, 10))\n",
    "    ax.set_zticklabels([\"{}%\".format(i) for i in range(0, 101, 10)], fontsize=6)\n",
    "    ax.set_zlabel(\"z = Ability to Adapt\", fontsize=9)\n",
    "\n",
    "    plt.savefig(\"adaptation_vectors.png\")\n",
    "    plt.close()"
   ]
  },
  {
   "cell_type": "markdown",
   "id": "user-input-parameters",
   "metadata": {},
   "source": [
    "### User Input for Command Line Parameters\n",
    "The values for `p1` (Technology change months) and `p2` (Worker adaptation months) will be supplied directly in the code below."
   ]
  },
  {
   "cell_type": "code",
   "execution_count": null,
   "id": "user-input-cell",
   "metadata": {},
   "outputs": [],
   "source": [
    "# User input for parameters\n",
    "p1 = 36  # Default value for technology change months\n",
    "p2 = 36  # Default value for worker adaptation months\n",
    "\n",
    "# For use in the notebook, create a Namespace object to simulate argparse output\n",
    "args = Namespace(p1=p1, p2=p2)\n",
    "\n",
    "# Define 20% tranches t1-t5 and normalize \"months to adapt\" for each tranche as percentages of total months\n",
    "t1, t2, t3, t4, t5 = args.p2 * 0.2, args.p2 * 0.4, args.p2 * 0.6, args.p2 * 0.8, args.p2 * 1.0\n",
    "y5, y4, y3, y2, y1 = t1 / args.p1 * 100, t2 / args.p1 * 100, t3 / args.p1 * 100, t4 / args.p1 * 100, t5 / args.p1 * 100\n",
    "\n",
    "# Print input values to stdout (may be commandline parameters or default)\n",
    "print(\"Technology change months (time available for workers to adapt):\", args.p1)\n",
    "print(\"Worker adaptation months (time needed for workers to adapt):\", args.p2)"
   ]
  },
  {
   "cell_type": "code",
   "execution_count": null,
   "id": "generate-and-save-data",
   "metadata": {},
   "outputs": [],
   "source": [
    "# Generate data\n",
    "x, y, z = generate_data()\n",
    "\n",
    "# Save data to CSV\n",
    "save_csv(x, y, z)"
   ]
  },
  {
   "cell_type": "code",
   "execution_count": null,
   "id": "create-and-save-chart",
   "metadata": {},
   "outputs": [],
   "source": [
    "# Create and save the 3D chart\n",
    "create_chart(x, y, z, t1, t2, t3, t4, t5, args.p1)"
   ]
  },
  {
   "cell_type": "code",
   "execution_count": null,
   "id": "display-csv-link",
   "metadata": {},
   "outputs": [],
   "source": [
    "# Display the link to the resulting CSV file\n",
    "csv_path = \"adaptation_vectors.csv\"\n",
    "display(FileLink(csv_path))"
   ]
  },
  {
   "cell_type": "code",
   "execution_count": null,
   "id": "display-image",
   "metadata": {},
   "outputs": [],
   "source": [
    "# Display the resulting image\n",
    "image_path = \"adaptation_vectors.png\"\n",
    "display(Image(filename=image_path))"
   ]
  }
 ],
 "metadata": {
  "kernelspec": {
   "display_name": "Python 3",
   "language": "python",
   "name": "python3"
  },
  "language_info": {
   "codemirror_mode": {
    "name": "ipython",
    "version": 3
   },
   "file_extension": ".py",
   "mimetype": "text/x-python",
   "name": "python",
   "nbconvert_exporter": "python",
   "pygments_lexer": "ipython3",
   "version": "3.9.7"
  }
 },
 "nbformat": 4,
 "nbformat_minor": 5
}
